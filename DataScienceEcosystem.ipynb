{
 "cells": [
  {
   "cell_type": "markdown",
   "id": "0fa39d45-7d79-44f6-8bec-6fda33c7b37c",
   "metadata": {},
   "source": [
    "# Data Science Tools and Ecosystem"
   ]
  },
  {
   "cell_type": "markdown",
   "id": "60ed2773-a73c-4819-9fd9-b6d13ba16df6",
   "metadata": {},
   "source": [
    "## In this notebook, Data Science Tools and Ecosystem are summarized."
   ]
  },
  {
   "cell_type": "markdown",
   "id": "25571c31-8cc7-40f0-a896-ccab73343c4b",
   "metadata": {},
   "source": [
    "__Objectives :__\n",
    "<ul>\n",
    "<li>List popular languages for Data Science</li>\n",
    "<li>List commonly used libraries by data scientists</li>\n",
    "<li>Table of tools used in data science</li>\n",
    "<li>Doing arithmetic operations in jupyter notebook</li>\n",
    "</ul>"
   ]
  },
  {
   "cell_type": "markdown",
   "id": "692ba459-9c8f-4898-9ca0-b8385e81129b",
   "metadata": {},
   "source": [
    "### Some of the popular languages that Data Scientists use are:\n",
    "   <ol>\n",
    "       <li>Python</li>\n",
    "       <li>R</li>\n",
    "       <li>SQL</li>\n",
    "       <li>Julia</li>\n",
    "       <li>Scala</li>\n",
    "   </ol>"
   ]
  },
  {
   "cell_type": "markdown",
   "id": "61a6d6c5-c2c1-44ac-9e05-c49a80ece010",
   "metadata": {},
   "source": [
    "### Some of the commonly used libraries used by Data Scientists include:\n",
    "<ol>\n",
    " <li>NumPy</li>\n",
    " <li>Pandas</li>\n",
    " <li>Matplotlib</li>\n",
    " <li>Seaborn</li>\n",
    " <li>Scikit-learn</li>\n",
    "</ol>"
   ]
  },
  {
   "cell_type": "markdown",
   "id": "90c3ce66-34d4-4621-a3e9-05ca53cce117",
   "metadata": {},
   "source": [
    "|Data Science Tools|\n",
    "|------------------|\n",
    "|Jupyter lab|\n",
    "|RStudio|\n",
    "|VS Code|"
   ]
  },
  {
   "cell_type": "markdown",
   "id": "1072234d-1ebd-44a7-8db0-c8aa2bdf5675",
   "metadata": {},
   "source": [
    "### Below are a few examples of evaluating arithmetic expressions in Python"
   ]
  },
  {
   "cell_type": "code",
   "execution_count": 1,
   "id": "71a6ad0c-9295-4fd4-a167-8eef9c90b45a",
   "metadata": {},
   "outputs": [
    {
     "data": {
      "text/plain": [
       "17"
      ]
     },
     "execution_count": 1,
     "metadata": {},
     "output_type": "execute_result"
    }
   ],
   "source": [
    "# This a simple arithmetic expression to mutiply then add integers\n",
    "(3*4)+5"
   ]
  },
  {
   "cell_type": "code",
   "execution_count": 2,
   "id": "6a8d167a-855b-4bfa-8361-456cb4277e5b",
   "metadata": {},
   "outputs": [
    {
     "data": {
      "text/plain": [
       "3.3333333333333335"
      ]
     },
     "execution_count": 2,
     "metadata": {},
     "output_type": "execute_result"
    }
   ],
   "source": [
    "# This will convert 200 minutes to hours by diving by 60\n",
    "200/60"
   ]
  },
  {
   "cell_type": "markdown",
   "id": "428e3c73-5aef-4b65-afbe-830f80caff6e",
   "metadata": {},
   "source": [
    "## Author\n",
    "Vasundhara Ganesh Mete"
   ]
  },
  {
   "cell_type": "code",
   "execution_count": null,
   "id": "355e22da-18f3-4023-9c23-cb30b2aa8a5b",
   "metadata": {},
   "outputs": [],
   "source": []
  }
 ],
 "metadata": {
  "kernelspec": {
   "display_name": "Python 3 (ipykernel)",
   "language": "python",
   "name": "python3"
  },
  "language_info": {
   "codemirror_mode": {
    "name": "ipython",
    "version": 3
   },
   "file_extension": ".py",
   "mimetype": "text/x-python",
   "name": "python",
   "nbconvert_exporter": "python",
   "pygments_lexer": "ipython3",
   "version": "3.13.5"
  }
 },
 "nbformat": 4,
 "nbformat_minor": 5
}
